{
 "cells": [
  {
   "cell_type": "code",
   "execution_count": 34,
   "metadata": {},
   "outputs": [
    {
     "data": {
      "text/html": [
       "<div>\n",
       "<style scoped>\n",
       "    .dataframe tbody tr th:only-of-type {\n",
       "        vertical-align: middle;\n",
       "    }\n",
       "\n",
       "    .dataframe tbody tr th {\n",
       "        vertical-align: top;\n",
       "    }\n",
       "\n",
       "    .dataframe thead th {\n",
       "        text-align: right;\n",
       "    }\n",
       "</style>\n",
       "<table border=\"1\" class=\"dataframe\">\n",
       "  <thead>\n",
       "    <tr style=\"text-align: right;\">\n",
       "      <th></th>\n",
       "      <th>Country</th>\n",
       "      <th>Quality Score</th>\n",
       "      <th>SDGi</th>\n",
       "      <th>Life Exectancy</th>\n",
       "      <th>HDI</th>\n",
       "      <th>Per Capita GDP</th>\n",
       "      <th>Region</th>\n",
       "      <th>Income Group</th>\n",
       "      <th>Population (millions)</th>\n",
       "      <th>footprint_production</th>\n",
       "      <th>footprint_consumption</th>\n",
       "      <th>Total biocapacity</th>\n",
       "      <th>Ecological (Deficit) or Reserve</th>\n",
       "      <th>num_earths</th>\n",
       "      <th>Number of Countries required</th>\n",
       "      <th>official_overshoot_day</th>\n",
       "      <th>overshoot_day_consumption</th>\n",
       "      <th>difference</th>\n",
       "    </tr>\n",
       "  </thead>\n",
       "  <tbody>\n",
       "    <tr>\n",
       "      <th>0</th>\n",
       "      <td>Afghanistan</td>\n",
       "      <td>3A</td>\n",
       "      <td>52.5</td>\n",
       "      <td>62</td>\n",
       "      <td>0.48</td>\n",
       "      <td>NaN</td>\n",
       "      <td>Middle East/Central Asia</td>\n",
       "      <td>LI</td>\n",
       "      <td>40.8</td>\n",
       "      <td>0.679451</td>\n",
       "      <td>0.801465</td>\n",
       "      <td>0.513827</td>\n",
       "      <td>-0.3</td>\n",
       "      <td>0.5</td>\n",
       "      <td>1.6</td>\n",
       "      <td>NaT</td>\n",
       "      <td>2025-11-19</td>\n",
       "      <td>NaN</td>\n",
       "    </tr>\n",
       "    <tr>\n",
       "      <th>1</th>\n",
       "      <td>Albania</td>\n",
       "      <td>3A</td>\n",
       "      <td>71.6</td>\n",
       "      <td>76</td>\n",
       "      <td>0.8</td>\n",
       "      <td>$14,889</td>\n",
       "      <td>Other Europe</td>\n",
       "      <td>UM</td>\n",
       "      <td>2.9</td>\n",
       "      <td>1.626551</td>\n",
       "      <td>2.071238</td>\n",
       "      <td>1.176752</td>\n",
       "      <td>-0.9</td>\n",
       "      <td>1.4</td>\n",
       "      <td>1.8</td>\n",
       "      <td>2024-09-23</td>\n",
       "      <td>2024-09-22</td>\n",
       "      <td>-1.0</td>\n",
       "    </tr>\n",
       "    <tr>\n",
       "      <th>2</th>\n",
       "      <td>Algeria</td>\n",
       "      <td>3A</td>\n",
       "      <td>71.5</td>\n",
       "      <td>76</td>\n",
       "      <td>0.75</td>\n",
       "      <td>$11,137</td>\n",
       "      <td>Africa</td>\n",
       "      <td>UM</td>\n",
       "      <td>45.4</td>\n",
       "      <td>1.769579</td>\n",
       "      <td>2.222968</td>\n",
       "      <td>0.663375</td>\n",
       "      <td>-1.6</td>\n",
       "      <td>1.5</td>\n",
       "      <td>3.4</td>\n",
       "      <td>2024-09-04</td>\n",
       "      <td>2024-09-04</td>\n",
       "      <td>0.0</td>\n",
       "    </tr>\n",
       "    <tr>\n",
       "      <th>3</th>\n",
       "      <td>Angola</td>\n",
       "      <td>3A</td>\n",
       "      <td>50.9</td>\n",
       "      <td>62</td>\n",
       "      <td>0.59</td>\n",
       "      <td>$6,304</td>\n",
       "      <td>Africa</td>\n",
       "      <td>LM</td>\n",
       "      <td>35</td>\n",
       "      <td>0.598284</td>\n",
       "      <td>0.857846</td>\n",
       "      <td>1.588191</td>\n",
       "      <td>0.7</td>\n",
       "      <td>0.6</td>\n",
       "      <td>0.5</td>\n",
       "      <td>NaT</td>\n",
       "      <td>2025-10-05</td>\n",
       "      <td>NaN</td>\n",
       "    </tr>\n",
       "    <tr>\n",
       "      <th>4</th>\n",
       "      <td>Antigua and Barbuda</td>\n",
       "      <td>2B</td>\n",
       "      <td>NaN</td>\n",
       "      <td>78</td>\n",
       "      <td>0.79</td>\n",
       "      <td>$18,749</td>\n",
       "      <td>Central America/Caribbean</td>\n",
       "      <td>HI</td>\n",
       "      <td>0.1</td>\n",
       "      <td>1.508591</td>\n",
       "      <td>2.936735</td>\n",
       "      <td>0.917277</td>\n",
       "      <td>-2.0</td>\n",
       "      <td>1.9</td>\n",
       "      <td>3.2</td>\n",
       "      <td>2024-07-06</td>\n",
       "      <td>2024-07-06</td>\n",
       "      <td>0.0</td>\n",
       "    </tr>\n",
       "    <tr>\n",
       "      <th>...</th>\n",
       "      <td>...</td>\n",
       "      <td>...</td>\n",
       "      <td>...</td>\n",
       "      <td>...</td>\n",
       "      <td>...</td>\n",
       "      <td>...</td>\n",
       "      <td>...</td>\n",
       "      <td>...</td>\n",
       "      <td>...</td>\n",
       "      <td>...</td>\n",
       "      <td>...</td>\n",
       "      <td>...</td>\n",
       "      <td>...</td>\n",
       "      <td>...</td>\n",
       "      <td>...</td>\n",
       "      <td>...</td>\n",
       "      <td>...</td>\n",
       "      <td>...</td>\n",
       "    </tr>\n",
       "    <tr>\n",
       "      <th>176</th>\n",
       "      <td>Venezuela, Bolivarian Republic of</td>\n",
       "      <td>3A</td>\n",
       "      <td>60.3</td>\n",
       "      <td>71</td>\n",
       "      <td>0.69</td>\n",
       "      <td>NaN</td>\n",
       "      <td>South America</td>\n",
       "      <td>UM</td>\n",
       "      <td>29.3</td>\n",
       "      <td>2.124106</td>\n",
       "      <td>2.109537</td>\n",
       "      <td>2.945992</td>\n",
       "      <td>0.8</td>\n",
       "      <td>1.4</td>\n",
       "      <td>0.7</td>\n",
       "      <td>2024-09-18</td>\n",
       "      <td>2024-09-17</td>\n",
       "      <td>-1.0</td>\n",
       "    </tr>\n",
       "    <tr>\n",
       "      <th>177</th>\n",
       "      <td>Viet Nam</td>\n",
       "      <td>3A</td>\n",
       "      <td>72.8</td>\n",
       "      <td>74</td>\n",
       "      <td>0.7</td>\n",
       "      <td>$11,032</td>\n",
       "      <td>Asia-Pacific</td>\n",
       "      <td>LM</td>\n",
       "      <td>99</td>\n",
       "      <td>2.237806</td>\n",
       "      <td>2.432274</td>\n",
       "      <td>0.795070</td>\n",
       "      <td>-1.6</td>\n",
       "      <td>1.6</td>\n",
       "      <td>3.1</td>\n",
       "      <td>2024-08-14</td>\n",
       "      <td>2024-08-14</td>\n",
       "      <td>0.0</td>\n",
       "    </tr>\n",
       "    <tr>\n",
       "      <th>178</th>\n",
       "      <td>Yemen</td>\n",
       "      <td>3A</td>\n",
       "      <td>52.1</td>\n",
       "      <td>64</td>\n",
       "      <td>0.46</td>\n",
       "      <td>$1,780</td>\n",
       "      <td>Middle East/Central Asia</td>\n",
       "      <td>LM</td>\n",
       "      <td>31.2</td>\n",
       "      <td>0.371747</td>\n",
       "      <td>0.613258</td>\n",
       "      <td>0.347502</td>\n",
       "      <td>-0.3</td>\n",
       "      <td>0.4</td>\n",
       "      <td>1.8</td>\n",
       "      <td>NaT</td>\n",
       "      <td>2026-06-19</td>\n",
       "      <td>NaN</td>\n",
       "    </tr>\n",
       "    <tr>\n",
       "      <th>179</th>\n",
       "      <td>Zambia</td>\n",
       "      <td>3A</td>\n",
       "      <td>NaN</td>\n",
       "      <td>NaN</td>\n",
       "      <td>NaN</td>\n",
       "      <td>NaN</td>\n",
       "      <td>Africa</td>\n",
       "      <td>LM</td>\n",
       "      <td>19.5</td>\n",
       "      <td>1.155055</td>\n",
       "      <td>1.213215</td>\n",
       "      <td>1.651920</td>\n",
       "      <td>0.4</td>\n",
       "      <td>0.8</td>\n",
       "      <td>0.7</td>\n",
       "      <td>NaT</td>\n",
       "      <td>2025-03-30</td>\n",
       "      <td>NaN</td>\n",
       "    </tr>\n",
       "    <tr>\n",
       "      <th>180</th>\n",
       "      <td>Zimbabwe</td>\n",
       "      <td>2A</td>\n",
       "      <td>NaN</td>\n",
       "      <td>NaN</td>\n",
       "      <td>NaN</td>\n",
       "      <td>NaN</td>\n",
       "      <td>Africa</td>\n",
       "      <td>LI</td>\n",
       "      <td>15.3</td>\n",
       "      <td>0.941797</td>\n",
       "      <td>1.085391</td>\n",
       "      <td>0.631495</td>\n",
       "      <td>-0.5</td>\n",
       "      <td>0.7</td>\n",
       "      <td>1.7</td>\n",
       "      <td>NaT</td>\n",
       "      <td>2025-05-23</td>\n",
       "      <td>NaN</td>\n",
       "    </tr>\n",
       "  </tbody>\n",
       "</table>\n",
       "<p>181 rows × 18 columns</p>\n",
       "</div>"
      ],
      "text/plain": [
       "                               Country Quality Score  SDGi Life Exectancy  \\\n",
       "0                          Afghanistan            3A  52.5             62   \n",
       "1                              Albania            3A  71.6             76   \n",
       "2                              Algeria            3A  71.5             76   \n",
       "3                               Angola            3A  50.9             62   \n",
       "4                  Antigua and Barbuda            2B   NaN             78   \n",
       "..                                 ...           ...   ...            ...   \n",
       "176  Venezuela, Bolivarian Republic of            3A  60.3             71   \n",
       "177                           Viet Nam            3A  72.8             74   \n",
       "178                              Yemen            3A  52.1             64   \n",
       "179                             Zambia            3A   NaN            NaN   \n",
       "180                           Zimbabwe            2A   NaN            NaN   \n",
       "\n",
       "      HDI Per Capita GDP                     Region Income Group  \\\n",
       "0    0.48            NaN   Middle East/Central Asia           LI   \n",
       "1     0.8        $14,889               Other Europe           UM   \n",
       "2    0.75        $11,137                     Africa           UM   \n",
       "3    0.59         $6,304                     Africa           LM   \n",
       "4    0.79        $18,749  Central America/Caribbean           HI   \n",
       "..    ...            ...                        ...          ...   \n",
       "176  0.69            NaN              South America           UM   \n",
       "177   0.7        $11,032               Asia-Pacific           LM   \n",
       "178  0.46         $1,780   Middle East/Central Asia           LM   \n",
       "179   NaN            NaN                     Africa           LM   \n",
       "180   NaN            NaN                     Africa           LI   \n",
       "\n",
       "    Population (millions)  footprint_production  footprint_consumption  \\\n",
       "0                    40.8              0.679451               0.801465   \n",
       "1                     2.9              1.626551               2.071238   \n",
       "2                    45.4              1.769579               2.222968   \n",
       "3                      35              0.598284               0.857846   \n",
       "4                     0.1              1.508591               2.936735   \n",
       "..                    ...                   ...                    ...   \n",
       "176                  29.3              2.124106               2.109537   \n",
       "177                    99              2.237806               2.432274   \n",
       "178                  31.2              0.371747               0.613258   \n",
       "179                  19.5              1.155055               1.213215   \n",
       "180                  15.3              0.941797               1.085391   \n",
       "\n",
       "     Total biocapacity   Ecological (Deficit) or Reserve  num_earths  \\\n",
       "0              0.513827                             -0.3         0.5   \n",
       "1              1.176752                             -0.9         1.4   \n",
       "2              0.663375                             -1.6         1.5   \n",
       "3              1.588191                              0.7         0.6   \n",
       "4              0.917277                             -2.0         1.9   \n",
       "..                  ...                              ...         ...   \n",
       "176            2.945992                              0.8         1.4   \n",
       "177            0.795070                             -1.6         1.6   \n",
       "178            0.347502                             -0.3         0.4   \n",
       "179            1.651920                              0.4         0.8   \n",
       "180            0.631495                             -0.5         0.7   \n",
       "\n",
       "     Number of Countries required official_overshoot_day  \\\n",
       "0                             1.6                    NaT   \n",
       "1                             1.8             2024-09-23   \n",
       "2                             3.4             2024-09-04   \n",
       "3                             0.5                    NaT   \n",
       "4                             3.2             2024-07-06   \n",
       "..                            ...                    ...   \n",
       "176                           0.7             2024-09-18   \n",
       "177                           3.1             2024-08-14   \n",
       "178                           1.8                    NaT   \n",
       "179                           0.7                    NaT   \n",
       "180                           1.7                    NaT   \n",
       "\n",
       "    overshoot_day_consumption  difference  \n",
       "0                  2025-11-19         NaN  \n",
       "1                  2024-09-22        -1.0  \n",
       "2                  2024-09-04         0.0  \n",
       "3                  2025-10-05         NaN  \n",
       "4                  2024-07-06         0.0  \n",
       "..                        ...         ...  \n",
       "176                2024-09-17        -1.0  \n",
       "177                2024-08-14         0.0  \n",
       "178                2026-06-19         NaN  \n",
       "179                2025-03-30         NaN  \n",
       "180                2025-05-23         NaN  \n",
       "\n",
       "[181 rows x 18 columns]"
      ]
     },
     "execution_count": 34,
     "metadata": {},
     "output_type": "execute_result"
    }
   ],
   "source": [
    "import pandas as pd\n",
    "from datetime import datetime\n",
    "from datetime import datetime\n",
    "\n",
    "# Import filtered table from Global Footprint Network\n",
    "df = pd.read_csv(\"Filtered_Earth_Overshoot_Days_2024.csv\")\n",
    "df = df.rename(columns = {\"Total Ecological Footprint (Consumption)\" : \"footprint_consumption\", \n",
    "                          \"Total Ecological Footprint (Production)\" : \"footprint_production\",\n",
    "                          \"Number of Earths required\" : \"num_earths\",\n",
    "                          \"Official Overshoot Day\" : \"official_overshoot_day\"\n",
    "                          })\n",
    "\n",
    "# country_footprint = total ecological footprint global hectares per person (consumption)\n",
    "\n",
    "# Fuction to calculate overshoot day\n",
    "def OvershootDayConsumption(footprint_consumption):\n",
    "         global_footprint = 1.51 # 2024 figure\n",
    "         day_num = int(366*(global_footprint/footprint_consumption))\n",
    "        \n",
    "        # accounting for countries using less than 1 year of resources\n",
    "         if day_num > 366: # running into 2025\n",
    "                 day_num -= 366 # leap year in 2024\n",
    "                 if day_num > 365: # running into 2026\n",
    "                         day_num -= 365\n",
    "                         date = datetime.strptime(\"2026-\" + str(day_num), \"%Y-%j\").strftime(\"%Y-%m-%d\")                         \n",
    "                 else:\n",
    "                         date = datetime.strptime(\"2025-\" + str(day_num), \"%Y-%j\").strftime(\"%Y-%m-%d\")\n",
    "         else:   \n",
    "                date = datetime.strptime(\"2024-\" + str(day_num), \"%Y-%j\").strftime(\"%Y-%m-%d\")\n",
    "         return date\n",
    "\n",
    "\n",
    "# Apply function row-wise to calculate overshoot_day\n",
    "df[\"overshoot_day_consumption\"] = df[\"footprint_consumption\"].apply(OvershootDayConsumption)\n",
    "\n",
    "# Calculating difference between calculated overshoot days and official overshoot days\n",
    "# Convert 'overshoot_day' column to datetime format for consistency\n",
    "df['overshoot_day_consumption'] = pd.to_datetime(df['overshoot_day_consumption'])\n",
    "\n",
    "# Convert 'official_overshoot_day' column to datetime format, handle NaN values\n",
    "df['official_overshoot_day'] = pd.to_datetime(df['official_overshoot_day'], errors='coerce')\n",
    "\n",
    "# Perform subtraction and extract the number of days\n",
    "df['difference'] = (df['overshoot_day_consumption'] - df['official_overshoot_day']).dt.days\n",
    "\n",
    "df\n"
   ]
  },
  {
   "cell_type": "code",
   "execution_count": 4,
   "metadata": {},
   "outputs": [],
   "source": [
    "# Save results as csv\n",
    "\n",
    "df.to_csv('Earth_Overshoot_2004.csv', index=False) "
   ]
  },
  {
   "cell_type": "code",
   "execution_count": 8,
   "metadata": {},
   "outputs": [
    {
     "data": {
      "text/html": [
       "<div>\n",
       "<style scoped>\n",
       "    .dataframe tbody tr th:only-of-type {\n",
       "        vertical-align: middle;\n",
       "    }\n",
       "\n",
       "    .dataframe tbody tr th {\n",
       "        vertical-align: top;\n",
       "    }\n",
       "\n",
       "    .dataframe thead th {\n",
       "        text-align: right;\n",
       "    }\n",
       "</style>\n",
       "<table border=\"1\" class=\"dataframe\">\n",
       "  <thead>\n",
       "    <tr style=\"text-align: right;\">\n",
       "      <th></th>\n",
       "      <th>Country</th>\n",
       "      <th>Quality Score</th>\n",
       "      <th>SDGi</th>\n",
       "      <th>Life Exectancy</th>\n",
       "      <th>HDI</th>\n",
       "      <th>Per Capita GDP</th>\n",
       "      <th>Region</th>\n",
       "      <th>Income Group</th>\n",
       "      <th>Population (millions)</th>\n",
       "      <th>footprint_production</th>\n",
       "      <th>footprint_consumption</th>\n",
       "      <th>Total biocapacity</th>\n",
       "      <th>Ecological (Deficit) or Reserve</th>\n",
       "      <th>num_earths</th>\n",
       "      <th>Number of Countries required</th>\n",
       "      <th>official_overshoot_day</th>\n",
       "      <th>overshoot_day_consumption</th>\n",
       "      <th>difference</th>\n",
       "    </tr>\n",
       "  </thead>\n",
       "  <tbody>\n",
       "    <tr>\n",
       "      <th>40</th>\n",
       "      <td>Croatia</td>\n",
       "      <td>3A</td>\n",
       "      <td>78.8</td>\n",
       "      <td>76</td>\n",
       "      <td>0.86</td>\n",
       "      <td>$31,007</td>\n",
       "      <td>Other Europe</td>\n",
       "      <td>HI</td>\n",
       "      <td>4.1</td>\n",
       "      <td>3.340532</td>\n",
       "      <td>3.711865</td>\n",
       "      <td>2.571672</td>\n",
       "      <td>-1.1</td>\n",
       "      <td>2.5</td>\n",
       "      <td>1.4</td>\n",
       "      <td>2024-05-28</td>\n",
       "      <td>2024-05-27</td>\n",
       "      <td>-1.0</td>\n",
       "    </tr>\n",
       "    <tr>\n",
       "      <th>60</th>\n",
       "      <td>French Polynesia</td>\n",
       "      <td>2B</td>\n",
       "      <td>NaN</td>\n",
       "      <td>79</td>\n",
       "      <td>NaN</td>\n",
       "      <td>NaN</td>\n",
       "      <td>Asia-Pacific</td>\n",
       "      <td>HI</td>\n",
       "      <td>0.3</td>\n",
       "      <td>2.021414</td>\n",
       "      <td>3.717598</td>\n",
       "      <td>1.127149</td>\n",
       "      <td>-2.6</td>\n",
       "      <td>2.5</td>\n",
       "      <td>3.3</td>\n",
       "      <td>2024-05-28</td>\n",
       "      <td>2024-05-27</td>\n",
       "      <td>-1.0</td>\n",
       "    </tr>\n",
       "    <tr>\n",
       "      <th>103</th>\n",
       "      <td>Malta</td>\n",
       "      <td>2B</td>\n",
       "      <td>76.8</td>\n",
       "      <td>83</td>\n",
       "      <td>0.92</td>\n",
       "      <td>$46,806</td>\n",
       "      <td>EU-27</td>\n",
       "      <td>HI</td>\n",
       "      <td>0.4</td>\n",
       "      <td>1.204712</td>\n",
       "      <td>3.721980</td>\n",
       "      <td>0.467364</td>\n",
       "      <td>-3.3</td>\n",
       "      <td>2.5</td>\n",
       "      <td>8.0</td>\n",
       "      <td>2024-05-28</td>\n",
       "      <td>2024-05-27</td>\n",
       "      <td>-1.0</td>\n",
       "    </tr>\n",
       "    <tr>\n",
       "      <th>129</th>\n",
       "      <td>Portugal</td>\n",
       "      <td>3A</td>\n",
       "      <td>79.2</td>\n",
       "      <td>81</td>\n",
       "      <td>0.87</td>\n",
       "      <td>$34,950</td>\n",
       "      <td>EU-27</td>\n",
       "      <td>HI</td>\n",
       "      <td>10.1</td>\n",
       "      <td>2.865368</td>\n",
       "      <td>3.719396</td>\n",
       "      <td>1.478047</td>\n",
       "      <td>-2.2</td>\n",
       "      <td>2.5</td>\n",
       "      <td>2.5</td>\n",
       "      <td>2024-05-28</td>\n",
       "      <td>2024-05-27</td>\n",
       "      <td>-1.0</td>\n",
       "    </tr>\n",
       "  </tbody>\n",
       "</table>\n",
       "</div>"
      ],
      "text/plain": [
       "              Country Quality Score  SDGi Life Exectancy   HDI Per Capita GDP  \\\n",
       "40            Croatia            3A  78.8             76  0.86        $31,007   \n",
       "60   French Polynesia            2B   NaN             79   NaN            NaN   \n",
       "103             Malta            2B  76.8             83  0.92        $46,806   \n",
       "129          Portugal            3A  79.2             81  0.87        $34,950   \n",
       "\n",
       "           Region Income Group Population (millions)  footprint_production  \\\n",
       "40   Other Europe           HI                   4.1              3.340532   \n",
       "60   Asia-Pacific           HI                   0.3              2.021414   \n",
       "103         EU-27           HI                   0.4              1.204712   \n",
       "129         EU-27           HI                  10.1              2.865368   \n",
       "\n",
       "     footprint_consumption  Total biocapacity   \\\n",
       "40                3.711865            2.571672   \n",
       "60                3.717598            1.127149   \n",
       "103               3.721980            0.467364   \n",
       "129               3.719396            1.478047   \n",
       "\n",
       "     Ecological (Deficit) or Reserve  num_earths  \\\n",
       "40                              -1.1         2.5   \n",
       "60                              -2.6         2.5   \n",
       "103                             -3.3         2.5   \n",
       "129                             -2.2         2.5   \n",
       "\n",
       "     Number of Countries required official_overshoot_day  \\\n",
       "40                            1.4             2024-05-28   \n",
       "60                            3.3             2024-05-28   \n",
       "103                           8.0             2024-05-28   \n",
       "129                           2.5             2024-05-28   \n",
       "\n",
       "    overshoot_day_consumption  difference  \n",
       "40                 2024-05-27        -1.0  \n",
       "60                 2024-05-27        -1.0  \n",
       "103                2024-05-27        -1.0  \n",
       "129                2024-05-27        -1.0  "
      ]
     },
     "execution_count": 8,
     "metadata": {},
     "output_type": "execute_result"
    },
    {
     "name": "stderr",
     "output_type": "stream",
     "text": [
      "[2024-05-15 11:26:02,313] ERROR in app: Exception on /_dash-update-component [POST]\n",
      "Traceback (most recent call last):\n",
      "  File \"c:\\Users\\YatwanHui\\AppData\\Local\\Programs\\Python\\Python311\\Lib\\site-packages\\flask\\app.py\", line 2529, in wsgi_app\n",
      "    response = self.full_dispatch_request()\n",
      "               ^^^^^^^^^^^^^^^^^^^^^^^^^^^^\n",
      "  File \"c:\\Users\\YatwanHui\\AppData\\Local\\Programs\\Python\\Python311\\Lib\\site-packages\\flask\\app.py\", line 1825, in full_dispatch_request\n",
      "    rv = self.handle_user_exception(e)\n",
      "         ^^^^^^^^^^^^^^^^^^^^^^^^^^^^^\n",
      "  File \"c:\\Users\\YatwanHui\\AppData\\Local\\Programs\\Python\\Python311\\Lib\\site-packages\\flask\\app.py\", line 1823, in full_dispatch_request\n",
      "    rv = self.dispatch_request()\n",
      "         ^^^^^^^^^^^^^^^^^^^^^^^\n",
      "  File \"c:\\Users\\YatwanHui\\AppData\\Local\\Programs\\Python\\Python311\\Lib\\site-packages\\flask\\app.py\", line 1799, in dispatch_request\n",
      "    return self.ensure_sync(self.view_functions[rule.endpoint])(**view_args)\n",
      "           ^^^^^^^^^^^^^^^^^^^^^^^^^^^^^^^^^^^^^^^^^^^^^^^^^^^^^^^^^^^^^^^^^\n",
      "  File \"c:\\Users\\YatwanHui\\AppData\\Local\\Programs\\Python\\Python311\\Lib\\site-packages\\dash\\dash.py\", line 1373, in dispatch\n",
      "    ctx.run(\n",
      "  File \"c:\\Users\\YatwanHui\\AppData\\Local\\Programs\\Python\\Python311\\Lib\\site-packages\\dash\\_callback.py\", line 465, in add_context\n",
      "    output_value = _invoke_callback(func, *func_args, **func_kwargs)\n",
      "                   ^^^^^^^^^^^^^^^^^^^^^^^^^^^^^^^^^^^^^^^^^^^^^^^^^\n",
      "  File \"c:\\Users\\YatwanHui\\AppData\\Local\\Programs\\Python\\Python311\\Lib\\site-packages\\dash\\_callback.py\", line 40, in _invoke_callback\n",
      "    return func(*args, **kwargs)  # %% callback invoked %%\n",
      "           ^^^^^^^^^^^^^^^^^^^^^\n",
      "  File \"C:\\Users\\YatwanHui\\AppData\\Local\\Temp\\ipykernel_9104\\875564557.py\", line 37, in display_hover_data\n",
      "    overshoot_day = df.iloc[index]['overshoot_day_consumption'].strftime('%Y-%m-%d')\n",
      "                    ^^^^^^^^^^^^^^^^^^^^^^^^^^^^^^^^^^^^^^^^^^^^^^^^^^^^\n",
      "AttributeError: 'str' object has no attribute 'strftime'\n"
     ]
    }
   ],
   "source": [
    "df[df.overshoot_day_consumption.str.contains(\"2024-05-27\")]\n"
   ]
  },
  {
   "cell_type": "code",
   "execution_count": 7,
   "metadata": {},
   "outputs": [
    {
     "data": {
      "text/html": [
       "<div>\n",
       "<style scoped>\n",
       "    .dataframe tbody tr th:only-of-type {\n",
       "        vertical-align: middle;\n",
       "    }\n",
       "\n",
       "    .dataframe tbody tr th {\n",
       "        vertical-align: top;\n",
       "    }\n",
       "\n",
       "    .dataframe thead th {\n",
       "        text-align: right;\n",
       "    }\n",
       "</style>\n",
       "<table border=\"1\" class=\"dataframe\">\n",
       "  <thead>\n",
       "    <tr style=\"text-align: right;\">\n",
       "      <th></th>\n",
       "      <th>Country</th>\n",
       "      <th>Quality Score</th>\n",
       "      <th>SDGi</th>\n",
       "      <th>Life Exectancy</th>\n",
       "      <th>HDI</th>\n",
       "      <th>Per Capita GDP</th>\n",
       "      <th>Region</th>\n",
       "      <th>Income Group</th>\n",
       "      <th>Population (millions)</th>\n",
       "      <th>footprint_production</th>\n",
       "      <th>footprint_consumption</th>\n",
       "      <th>Total biocapacity</th>\n",
       "      <th>Ecological (Deficit) or Reserve</th>\n",
       "      <th>num_earths</th>\n",
       "      <th>Number of Countries required</th>\n",
       "      <th>official_overshoot_day</th>\n",
       "      <th>overshoot_day_consumption</th>\n",
       "      <th>difference</th>\n",
       "    </tr>\n",
       "  </thead>\n",
       "  <tbody>\n",
       "    <tr>\n",
       "      <th>103</th>\n",
       "      <td>Malta</td>\n",
       "      <td>2B</td>\n",
       "      <td>76.8</td>\n",
       "      <td>83</td>\n",
       "      <td>0.92</td>\n",
       "      <td>$46,806</td>\n",
       "      <td>EU-27</td>\n",
       "      <td>HI</td>\n",
       "      <td>0.4</td>\n",
       "      <td>1.204712</td>\n",
       "      <td>3.72198</td>\n",
       "      <td>0.467364</td>\n",
       "      <td>-3.3</td>\n",
       "      <td>2.5</td>\n",
       "      <td>8.0</td>\n",
       "      <td>2024-05-28</td>\n",
       "      <td>2024-05-27</td>\n",
       "      <td>-1.0</td>\n",
       "    </tr>\n",
       "  </tbody>\n",
       "</table>\n",
       "</div>"
      ],
      "text/plain": [
       "    Country Quality Score  SDGi Life Exectancy   HDI Per Capita GDP Region  \\\n",
       "103   Malta            2B  76.8             83  0.92        $46,806  EU-27   \n",
       "\n",
       "    Income Group Population (millions)  footprint_production  \\\n",
       "103           HI                   0.4              1.204712   \n",
       "\n",
       "     footprint_consumption  Total biocapacity   \\\n",
       "103                3.72198            0.467364   \n",
       "\n",
       "     Ecological (Deficit) or Reserve  num_earths  \\\n",
       "103                             -3.3         2.5   \n",
       "\n",
       "     Number of Countries required official_overshoot_day  \\\n",
       "103                           8.0             2024-05-28   \n",
       "\n",
       "    overshoot_day_consumption  difference  \n",
       "103                2024-05-27        -1.0  "
      ]
     },
     "execution_count": 7,
     "metadata": {},
     "output_type": "execute_result"
    }
   ],
   "source": [
    "df[df.Country.str.contains(\"Malta\")]\n"
   ]
  },
  {
   "cell_type": "markdown",
   "metadata": {},
   "source": [
    "#### 4. Plot a graph of Overshoot Dates-number of countries \n",
    "- See the spread of countries overshooting a lot to little. \n",
    "- Note: None values need to be on the right-hand side, assign as 1 Jan 2025?\n",
    "- Or even calculate the number of bonus days?\n",
    "- colour coordinate based on continent"
   ]
  },
  {
   "cell_type": "code",
   "execution_count": 35,
   "metadata": {},
   "outputs": [
    {
     "data": {
      "image/png": "[encoded data removed]",
      "text/plain": [
       "<Figure size 1800x600 with 1 Axes>"
      ]
     },
     "metadata": {},
     "output_type": "display_data"
    }
   ],
   "source": [
    "# Matplotlib Graph of Overshoot Days by Consumption (similar to Offical Overshoot Days)\n",
    "\n",
    "import matplotlib.pyplot as plt\n",
    "import matplotlib.dates as mdates\n",
    "from matplotlib.ticker import MultipleLocator\n",
    "import mplcursors\n",
    "\n",
    "\n",
    "# Colourmap for the regions\n",
    "region_colours = {\n",
    "    'North America' : 'mediumseagreen',\n",
    "    'Central America/Caribbean' : 'lightseagreen',\n",
    "    'South America' : 'teal',\n",
    "    'EU-27' : 'mediumblue',\n",
    "    'Other Europe' : 'cornflowerblue',    \n",
    "    'Africa' : 'maroon',\n",
    "    'Middle East/Central Asia' : 'red',\n",
    "    'Asia-Pacific' : 'orange'\n",
    "}\n",
    "\n",
    "\n",
    "# Create a figure and axis\n",
    "fig, ax = plt.subplots(figsize=(18,6))\n",
    "\n",
    "# Create a separate bar plot for each region:\n",
    "for region, color in region_colours.items():\n",
    "    region_data = df[df['Region'] == region]\n",
    "    plt.bar(region_data['overshoot_day_consumption'], region_data['num_earths'], color=color, \n",
    "            label=f\"{region} - Overshoot Day: {region_data['overshoot_day_consumption'].mean().strftime('%d %B %Y')}\")\n",
    "    \n",
    "\n",
    "# Titles and labels\n",
    "ax.set_title(\"Country Overshoot Days (by Consumption) and Number of Earths\")\n",
    "ax.set_xlabel(\"Country Overshoot Day\")\n",
    "ax.set_ylabel(\"Number of Earths\")\n",
    "\n",
    "\n",
    "# Format x-axis\n",
    "# Format x-axis ticks as months\n",
    "ax.xaxis.set_minor_formatter(mdates.DateFormatter('%b'))\n",
    "\n",
    "# Set x-axis tick labels to display every 2 months\n",
    "ax.xaxis.set_minor_locator(mdates.MonthLocator(interval=2))\n",
    "\n",
    "# Add ticks to indicate year changes\n",
    "ax.xaxis.set_major_locator(mdates.YearLocator())\n",
    "\n",
    "# Display minor ticks as year labels\n",
    "ax.xaxis.set_major_formatter(mdates.DateFormatter('%Y'))\n",
    "\n",
    "# Adjust position of year lables to be below month labels\n",
    "ax.tick_params(axis='x', which='major', pad=15)\n",
    "\n",
    "# Set x-axis limits to start from the origin\n",
    "start_date = datetime(2024,1,1)\n",
    "ax.set_xlim(start_date, df['overshoot_day_consumption'].max())\n",
    "\n",
    "\n",
    "# Format y-axis\n",
    "ax.yaxis.set_major_locator(MultipleLocator(2))\n",
    "ax.grid(which='major', axis='x')\n",
    "\n",
    "\n",
    "# Hide top spine\n",
    "ax.spines['top'].set_visible(False)\n",
    "ax.spines['right'].set_visible(False)\n",
    "\n",
    "\n",
    "# Add hover annotations using mplcursors\n",
    "mplcursors.cursor(hover=True).connect(\n",
    "    \"add\", lambda sel: sel.annotation.set_text(\n",
    "        f\"Country: {df.iloc[sel.target.index]['Country']}\\n\"\n",
    "        f\"Overshoot Day: {df.iloc[sel.target.index]['overshoot_day_consumption'].strftime('%d %B %Y')}\\n\"\n",
    "        f\"Number of Earths: {df.iloc[sel.target.index]['num_earths']:.2f}\"\n",
    "    )\n",
    ")\n",
    "\n",
    "\n",
    "# Display legend based on average overshoot day by region\n",
    "# get legend handles and labels\n",
    "handles, labels = ax.get_legend_handles_labels()\n",
    "\n",
    "# sort legend labels based on the average overshoot day\n",
    "sorted_labels = sorted(labels, key=lambda x: datetime.strptime(x.split(': ')[-1].strip(), '%d %B %Y'))\n",
    "sorted_handles = [handles[labels.index(label)] for label in sorted_labels]\n",
    "\n",
    "# Recreate legend with sorted labels and handles\n",
    "legend = ax.legend(sorted_handles, sorted_labels, loc='upper center', bbox_to_anchor=(0.5, -0.2), frameon=False, ncol=2)\n",
    "\n",
    "\n",
    "# save figure\n",
    "fig.savefig('Graph_EarthOvershoot Days 2024 by Consumption.png', bbox_inches='tight')\n",
    "\n",
    "plt.show()"
   ]
  },
  {
   "cell_type": "code",
   "execution_count": 21,
   "metadata": {},
   "outputs": [
    {
     "data": {
      "text/html": [
       "\n",
       "        <iframe\n",
       "            width=\"100%\"\n",
       "            height=\"650\"\n",
       "            src=\"http://127.0.0.1:2000/\"\n",
       "            frameborder=\"0\"\n",
       "            allowfullscreen\n",
       "            \n",
       "        ></iframe>\n",
       "        "
      ],
      "text/plain": [
       "<IPython.lib.display.IFrame at 0x29f0cb02790>"
      ]
     },
     "metadata": {},
     "output_type": "display_data"
    }
   ],
   "source": [
    "# Dash graph of Overshoot Day by consumption and number of Earths\n",
    "\n",
    "import dash\n",
    "from dash import dcc, html, Input, Output, dash_table\n",
    "from dash.dependencies import Input, Output\n",
    "\n",
    "\n",
    "# Define the colours based on regions\n",
    "region_colours = {\n",
    "    'North America' : 'mediumseagreen',\n",
    "    'Central America/Caribbean' : 'lightseagreen',\n",
    "    'South America' : 'teal',\n",
    "    'EU-27' : 'mediumblue',\n",
    "    'Other Europe' : 'cornflowerblue',    \n",
    "    'Africa' : 'maroon',\n",
    "    'Middle East/Central Asia' : 'red',\n",
    "    'Asia-Pacific' : 'orange'\n",
    "}\n",
    "\n",
    "# Initialise the Dash app\n",
    "app = dash.Dash(__name__)\n",
    "\n",
    "# Define a function to map region names to colors\n",
    "def map_region_to_color(region):\n",
    "    return region_colours.get(region, 'gray')  # Default color is gray for unknown regions\n",
    "\n",
    "# Define a callback to print hover annotations\n",
    "@app.callback(\n",
    "    Output('hover-data', 'children'),\n",
    "    [Input('earth-overshoot-graph', 'hoverData')]\n",
    ")\n",
    "def display_hover_data(hoverData):\n",
    "    if hoverData is not None:\n",
    "        index = hoverData['points'][0]['pointIndex']\n",
    "        country = df.iloc[index]['Country']\n",
    "        region = df.iloc[index]['Region']\n",
    "        overshoot_day = df.iloc[index]['overshoot_day_consumption'].strftime('%Y-%m-%d')\n",
    "        num_earths = df.iloc[index]['num_earths']\n",
    "        return (\n",
    "            f\"Country: {country}<br>\"\n",
    "            f\"Region: {region}<br>\"\n",
    "            f\"Overshoot Day: {overshoot_day}<br>\"\n",
    "            f\"Number of Earths: {num_earths}\"\n",
    "        )\n",
    "    return \"\"\n",
    "\n",
    "# Define the layout of the Dash app\n",
    "app.layout = html.Div([\n",
    "    dcc.Graph(\n",
    "        id='earth-overshoot-graph',\n",
    "        figure={\n",
    "            'data': [\n",
    "                {\n",
    "                    'x': df['overshoot_day_consumption'],\n",
    "                    'y': df['num_earths'],\n",
    "                    'type' : 'bar',\n",
    "                    'text': [f\"Country: {country}<br>\"\n",
    "                             f\"Region: {region}<br>\"\n",
    "                             f\"Overshoot Day: {overshoot_day}<br>\"\n",
    "                             f\"Number of Earths: {num_earths}\"\n",
    "                             for country, region, overshoot_day, num_earths in\n",
    "                             zip(df['Country'], df['Region'], df['overshoot_day_consumption'].dt.strftime('%Y-%m-%d'), df['num_earths'])],\n",
    "                    'hoverinfo': 'text',  # Display custom text on hover\n",
    "                    'name': df['Region'], # Set the legend labels\n",
    "                    'marker': {'color': [map_region_to_color(region) for region in df['Region']]}\n",
    "                }\n",
    "            ],\n",
    "            'layout': {\n",
    "            'title': 'Earth Overshoot 2024',\n",
    "            'xaxis': {'title': 'Overshoot Day'},\n",
    "            'yaxis': {'title': 'Number of Earths'},\n",
    "            'legend': {'orientation': 'h', 'x': 0, 'y': -0.2}  # Position legend at the bottom\n",
    "            }\n",
    "        }\n",
    "    ),\n",
    "    html.Div(id='hover-data')\n",
    "])\n",
    "\n",
    "\n",
    "# Run the Dash app\n",
    "if __name__ == '__main__':\n",
    "    app.run_server(mode='inline', port=2000)\n"
   ]
  },
  {
   "cell_type": "code",
   "execution_count": 5,
   "metadata": {},
   "outputs": [
    {
     "data": {
      "text/html": [
       "\n",
       "        <iframe\n",
       "            width=\"100%\"\n",
       "            height=\"650\"\n",
       "            src=\"http://127.0.0.1:8051/\"\n",
       "            frameborder=\"0\"\n",
       "            allowfullscreen\n",
       "            \n",
       "        ></iframe>\n",
       "        "
      ],
      "text/plain": [
       "<IPython.lib.display.IFrame at 0x29f06249e90>"
      ]
     },
     "metadata": {},
     "output_type": "display_data"
    }
   ],
   "source": [
    "# Simple Dash graph to test visualisation\n",
    "\n",
    "# Import packages, including DCC Dash Core Components including graph component dcc.Graph\n",
    "from dash import Dash, html, dcc\n",
    "import plotly.express as px # to build interactive graphs\n",
    "\n",
    "\n",
    "# Incorporate data\n",
    "df = pd.read_csv(\"Earth_Overshoot_2004.csv\")\n",
    "\n",
    "# Initialise the app\n",
    "app = Dash(__name__)\n",
    "\n",
    "# Calcylate min and max y-axis values\n",
    "min_y = df['num_earths'].min()\n",
    "max_y = df['num_earths'].max()\n",
    "\n",
    "\n",
    "# App layout\n",
    "app.layout = html.Div([\n",
    "    html.Div(children=\"Earth Overshoot Graph\"),\n",
    "    dcc.Graph(figure=px.bar(df, \n",
    "                                  x='overshoot_day_consumption',\n",
    "                                  y='num_earths'),\n",
    "              config={'displayModeBar': False},  # Hide the mode bar for simplicity\n",
    "              style={'height': '600px'}),  # Adjust height if needed\n",
    "    dcc.RangeSlider(\n",
    "        id='y-axis-range-slider',\n",
    "        min=min_y,\n",
    "        max=max_y,\n",
    "        step=1,\n",
    "        value=[min_y, max_y],\n",
    "        marks={min_y: str(min_y), max_y: str(max_y)}\n",
    "    )\n",
    "])\n",
    "\n",
    "\n",
    "# Run the app\n",
    "if __name__ == '__main__':\n",
    "    app.run_server(mode='inline', port=8051)"
   ]
  },
  {
   "cell_type": "code",
   "execution_count": 6,
   "metadata": {},
   "outputs": [
    {
     "data": {
      "application/vnd.plotly.v1+json": {
       "config": {
        "plotlyServerURL": "https://plot.ly"
       },
       "data": [
        {
         "alignmentgroup": "True",
         "hovertemplate": "overshoot_day_consumption=%{x}<br>footprint_consumption=%{y}<extra></extra>",
         "legendgroup": "",
         "marker": {
          "color": "#636efa",
          "pattern": {
           "shape": ""
          }
         },
         "name": "",
         "offsetgroup": "",
         "orientation": "v",
         "showlegend": false,
         "textposition": "auto",
         "type": "bar",
         "x": [
          "2025-11-19",
          "2024-09-22",
          "2024-09-04",
          "2025-10-05",
          "2024-07-06",
          "2024-06-19",
          "2024-08-24",
          "2024-04-04",
          "2024-04-07",
          "2024-08-21",
          "2024-03-07",
          "2026-04-02",
          "2024-06-14",
          "2024-04-29",
          "2024-03-22",
          "2024-03-13",
          "2025-05-11",
          "2024-04-26",
          "2024-07-17",
          "2024-05-08",
          "2024-09-04",
          "2024-08-03",
          "2024-03-09",
          "2024-06-02",
          "2025-09-06",
          "2026-07-19",
          "2025-04-19",
          "2025-02-15",
          "2025-06-12",
          "2024-03-14",
          "2025-05-08",
          "2025-02-05",
          "2024-05-22",
          "2024-05-31",
          "2024-10-05",
          "2024-10-04",
          "2025-05-08",
          "2026-03-16",
          "2024-07-30",
          "2025-09-15",
          "2024-05-27",
          "2024-10-14",
          "2024-06-21",
          "2024-04-17",
          "2024-03-15",
          "2024-08-11",
          "2024-07-23",
          "2024-11-01",
          "2024-11-24",
          "2025-01-14",
          "2024-10-09",
          "2024-10-28",
          "2026-02-01",
          "2024-03-08",
          "2024-07-08",
          "2025-10-18",
          "2024-07-14",
          "2024-04-12",
          "2024-05-07",
          "2024-12-22",
          "2024-05-27",
          "2024-09-23",
          "2025-10-08",
          "2024-07-26",
          "2024-05-01",
          "2024-11-09",
          "2024-05-25",
          "2024-11-06",
          "2024-06-09",
          "2024-10-17",
          "2024-12-27",
          "2025-04-01",
          "2024-06-14",
          "2026-07-23",
          "2025-02-13",
          "2024-05-24",
          "2025-06-15",
          "2024-11-24",
          "2024-06-18",
          "2024-11-15",
          "2024-05-01",
          "2024-05-11",
          "2024-05-18",
          "2024-11-12",
          "2024-05-15",
          "2025-02-26",
          "2024-05-07",
          "2025-09-18",
          "2025-04-05",
          "2024-04-03",
          "2024-03-04",
          "2024-12-30",
          "2024-10-23",
          "2024-03-11",
          "2024-06-23",
          "2025-04-24",
          "2025-03-19",
          "2024-03-25",
          "2024-02-19",
          "2025-11-26",
          "2026-02-01",
          "2024-05-09",
          "2025-07-05",
          "2024-05-27",
          "2024-06-05",
          "2024-08-31",
          "2024-07-30",
          "2024-08-28",
          "2024-03-11",
          "2024-05-30",
          "2024-12-22",
          "2025-12-16",
          "2025-05-10",
          "2024-08-18",
          "2025-09-04",
          "2024-03-31",
          "2024-04-10",
          "2025-01-04",
          "2025-02-12",
          "2025-11-19",
          "2024-04-11",
          "2024-03-15",
          "2026-01-26",
          "2024-08-25",
          "2025-04-22",
          "2024-06-23",
          "2024-09-02",
          "2025-04-12",
          "2024-04-27",
          "2024-05-27",
          "2024-02-11",
          "2024-12-28",
          "2024-07-14",
          "2024-06-06",
          "2024-07-19",
          "2024-04-04",
          "2026-09-23",
          "2024-11-17",
          "2024-10-30",
          "2024-08-09",
          "2025-06-08",
          "2024-04-05",
          "2025-03-28",
          "2024-05-23",
          "2025-06-11",
          "2024-04-05",
          "2024-05-11",
          "2024-04-24",
          "2024-11-26",
          "2025-09-10",
          "2024-06-20",
          "2024-11-26",
          "2024-05-20",
          "2025-04-28",
          "2024-06-24",
          "2024-04-20",
          "2024-05-26",
          "2025-07-07",
          "2025-06-03",
          "2025-08-18",
          "2024-08-22",
          "2026-08-31",
          "2025-09-09",
          "2024-06-26",
          "2024-04-11",
          "2025-02-08",
          "2024-06-10",
          "2024-05-22",
          "2025-07-18",
          "2024-09-30",
          "2024-03-03",
          "2024-06-03",
          "2024-03-14",
          "2024-09-11",
          "2024-09-18",
          "2024-10-27",
          "2024-09-17",
          "2024-08-14",
          "2026-06-19",
          "2025-03-30",
          "2025-05-23"
         ],
         "xaxis": "x",
         "y": [
          0.801464624,
          2.07123836,
          2.222968466,
          0.857845606,
          2.936735142,
          3.220618379,
          2.326394968,
          5.777038091,
          5.626640543,
          2.357088965,
          8.176201444,
          0.670724904,
          3.314135759,
          4.578252952,
          6.689648646,
          7.530376316,
          1.110590112,
          4.720567489,
          2.772535296,
          4.265545931,
          2.221784474,
          2.55181934,
          7.908623274,
          3.582129357,
          0.897786581,
          0.593605747,
          1.162178945,
          1.339450654,
          1.044023614,
          7.420640932,
          1.116873599,
          1.374623925,
          3.841833518,
          3.618648824,
          1.977114125,
          1.984809202,
          1.118348118,
          0.685389769,
          2.598940861,
          0.884764377,
          3.711865291,
          1.917039516,
          3.189333464,
          5.083019965,
          7.286468876,
          2.457381498,
          2.687000807,
          1.803241756,
          1.678287832,
          1.453028069,
          1.952642002,
          1.827589203,
          0.72409465,
          8.117492437,
          2.899732537,
          0.840928297,
          2.813023151,
          5.363279722,
          4.313125146,
          1.54705309,
          3.717597999,
          2.064461271,
          0.853872155,
          2.655478228,
          4.498679275,
          1.755277975,
          3.780198345,
          1.777002913,
          3.419968984,
          1.893801705,
          1.525928653,
          1.207244845,
          3.315294223,
          0.591012228,
          1.347078907,
          3.788585828,
          1.037628005,
          1.678629244,
          3.2486495,
          1.726746196,
          4.505430071,
          4.160883266,
          3.951195867,
          1.740340457,
          4.044275528,
          1.303853168,
          4.294192618,
          0.881302467,
          1.198197816,
          5.821429703,
          8.551154826,
          1.510363941,
          1.859643637,
          7.72457986,
          3.145596118,
          1.151055555,
          1.242561554,
          6.428250738,
          10.95940773,
          0.794028543,
          0.724281863,
          4.242378924,
          1.000773926,
          3.721980114,
          3.502802609,
          2.256407504,
          2.603587166,
          2.285229609,
          7.707718406,
          3.650600238,
          1.545268177,
          0.771230126,
          1.114220234,
          2.385289244,
          0.900456094,
          6.021977401,
          5.426229874,
          1.493572383,
          1.350307522,
          0.801335315,
          5.398733676,
          7.281467173,
          0.729966752,
          2.319781541,
          1.154842733,
          3.15032926,
          2.237887783,
          1.179381722,
          4.648672886,
          3.719395877,
          13.12633419,
          1.522206735,
          2.813592043,
          3.491316161,
          2.737665279,
          5.801171589,
          0.55402976,
          1.711828501,
          1.81483381,
          2.483752448,
          1.05186977,
          5.745479868,
          1.219523977,
          3.830578695,
          1.046275966,
          5.738031039,
          4.158978975,
          4.781998935,
          1.664943989,
          0.891389514,
          3.212886552,
          1.669043983,
          3.915566345,
          1.141855742,
          3.139095257,
          4.937928147,
          3.735964065,
          0.997263116,
          1.060971852,
          0.926305385,
          2.345244338,
          0.56702044,
          0.893112055,
          3.090425847,
          5.39309692,
          1.36135242,
          3.394831497,
          3.860804849,
          0.977960235,
          2.013521729,
          8.714827403,
          3.56529668,
          7.46063209,
          2.162122484,
          2.107131631,
          1.830256724,
          2.10953669,
          2.432274187,
          0.61325836,
          1.213214918,
          1.085391103
         ],
         "yaxis": "y"
        }
       ],
       "layout": {
        "barmode": "relative",
        "legend": {
         "tracegroupgap": 0
        },
        "margin": {
         "t": 60
        },
        "template": {
         "data": {
          "bar": [
           {
            "error_x": {
             "color": "#2a3f5f"
            },
            "error_y": {
             "color": "#2a3f5f"
            },
            "marker": {
             "line": {
              "color": "#E5ECF6",
              "width": 0.5
             },
             "pattern": {
              "fillmode": "overlay",
              "size": 10,
              "solidity": 0.2
             }
            },
            "type": "bar"
           }
          ],
          "barpolar": [
           {
            "marker": {
             "line": {
              "color": "#E5ECF6",
              "width": 0.5
             },
             "pattern": {
              "fillmode": "overlay",
              "size": 10,
              "solidity": 0.2
             }
            },
            "type": "barpolar"
           }
          ],
          "carpet": [
           {
            "aaxis": {
             "endlinecolor": "#2a3f5f",
             "gridcolor": "white",
             "linecolor": "white",
             "minorgridcolor": "white",
             "startlinecolor": "#2a3f5f"
            },
            "baxis": {
             "endlinecolor": "#2a3f5f",
             "gridcolor": "white",
             "linecolor": "white",
             "minorgridcolor": "white",
             "startlinecolor": "#2a3f5f"
            },
            "type": "carpet"
           }
          ],
          "choropleth": [
           {
            "colorbar": {
             "outlinewidth": 0,
             "ticks": ""
            },
            "type": "choropleth"
           }
          ],
          "contour": [
           {
            "colorbar": {
             "outlinewidth": 0,
             "ticks": ""
            },
            "colorscale": [
             [
              0,
              "#0d0887"
             ],
             [
              0.1111111111111111,
              "#46039f"
             ],
             [
              0.2222222222222222,
              "#7201a8"
             ],
             [
              0.3333333333333333,
              "#9c179e"
             ],
             [
              0.4444444444444444,
              "#bd3786"
             ],
             [
              0.5555555555555556,
              "#d8576b"
             ],
             [
              0.6666666666666666,
              "#ed7953"
             ],
             [
              0.7777777777777778,
              "#fb9f3a"
             ],
             [
              0.8888888888888888,
              "#fdca26"
             ],
             [
              1,
              "#f0f921"
             ]
            ],
            "type": "contour"
           }
          ],
          "contourcarpet": [
           {
            "colorbar": {
             "outlinewidth": 0,
             "ticks": ""
            },
            "type": "contourcarpet"
           }
          ],
          "heatmap": [
           {
            "colorbar": {
             "outlinewidth": 0,
             "ticks": ""
            },
            "colorscale": [
             [
              0,
              "#0d0887"
             ],
             [
              0.1111111111111111,
              "#46039f"
             ],
             [
              0.2222222222222222,
              "#7201a8"
             ],
             [
              0.3333333333333333,
              "#9c179e"
             ],
             [
              0.4444444444444444,
              "#bd3786"
             ],
             [
              0.5555555555555556,
              "#d8576b"
             ],
             [
              0.6666666666666666,
              "#ed7953"
             ],
             [
              0.7777777777777778,
              "#fb9f3a"
             ],
             [
              0.8888888888888888,
              "#fdca26"
             ],
             [
              1,
              "#f0f921"
             ]
            ],
            "type": "heatmap"
           }
          ],
          "heatmapgl": [
           {
            "colorbar": {
             "outlinewidth": 0,
             "ticks": ""
            },
            "colorscale": [
             [
              0,
              "#0d0887"
             ],
             [
              0.1111111111111111,
              "#46039f"
             ],
             [
              0.2222222222222222,
              "#7201a8"
             ],
             [
              0.3333333333333333,
              "#9c179e"
             ],
             [
              0.4444444444444444,
              "#bd3786"
             ],
             [
              0.5555555555555556,
              "#d8576b"
             ],
             [
              0.6666666666666666,
              "#ed7953"
             ],
             [
              0.7777777777777778,
              "#fb9f3a"
             ],
             [
              0.8888888888888888,
              "#fdca26"
             ],
             [
              1,
              "#f0f921"
             ]
            ],
            "type": "heatmapgl"
           }
          ],
          "histogram": [
           {
            "marker": {
             "pattern": {
              "fillmode": "overlay",
              "size": 10,
              "solidity": 0.2
             }
            },
            "type": "histogram"
           }
          ],
          "histogram2d": [
           {
            "colorbar": {
             "outlinewidth": 0,
             "ticks": ""
            },
            "colorscale": [
             [
              0,
              "#0d0887"
             ],
             [
              0.1111111111111111,
              "#46039f"
             ],
             [
              0.2222222222222222,
              "#7201a8"
             ],
             [
              0.3333333333333333,
              "#9c179e"
             ],
             [
              0.4444444444444444,
              "#bd3786"
             ],
             [
              0.5555555555555556,
              "#d8576b"
             ],
             [
              0.6666666666666666,
              "#ed7953"
             ],
             [
              0.7777777777777778,
              "#fb9f3a"
             ],
             [
              0.8888888888888888,
              "#fdca26"
             ],
             [
              1,
              "#f0f921"
             ]
            ],
            "type": "histogram2d"
           }
          ],
          "histogram2dcontour": [
           {
            "colorbar": {
             "outlinewidth": 0,
             "ticks": ""
            },
            "colorscale": [
             [
              0,
              "#0d0887"
             ],
             [
              0.1111111111111111,
              "#46039f"
             ],
             [
              0.2222222222222222,
              "#7201a8"
             ],
             [
              0.3333333333333333,
              "#9c179e"
             ],
             [
              0.4444444444444444,
              "#bd3786"
             ],
             [
              0.5555555555555556,
              "#d8576b"
             ],
             [
              0.6666666666666666,
              "#ed7953"
             ],
             [
              0.7777777777777778,
              "#fb9f3a"
             ],
             [
              0.8888888888888888,
              "#fdca26"
             ],
             [
              1,
              "#f0f921"
             ]
            ],
            "type": "histogram2dcontour"
           }
          ],
          "mesh3d": [
           {
            "colorbar": {
             "outlinewidth": 0,
             "ticks": ""
            },
            "type": "mesh3d"
           }
          ],
          "parcoords": [
           {
            "line": {
             "colorbar": {
              "outlinewidth": 0,
              "ticks": ""
             }
            },
            "type": "parcoords"
           }
          ],
          "pie": [
           {
            "automargin": true,
            "type": "pie"
           }
          ],
          "scatter": [
           {
            "fillpattern": {
             "fillmode": "overlay",
             "size": 10,
             "solidity": 0.2
            },
            "type": "scatter"
           }
          ],
          "scatter3d": [
           {
            "line": {
             "colorbar": {
              "outlinewidth": 0,
              "ticks": ""
             }
            },
            "marker": {
             "colorbar": {
              "outlinewidth": 0,
              "ticks": ""
             }
            },
            "type": "scatter3d"
           }
          ],
          "scattercarpet": [
           {
            "marker": {
             "colorbar": {
              "outlinewidth": 0,
              "ticks": ""
             }
            },
            "type": "scattercarpet"
           }
          ],
          "scattergeo": [
           {
            "marker": {
             "colorbar": {
              "outlinewidth": 0,
              "ticks": ""
             }
            },
            "type": "scattergeo"
           }
          ],
          "scattergl": [
           {
            "marker": {
             "colorbar": {
              "outlinewidth": 0,
              "ticks": ""
             }
            },
            "type": "scattergl"
           }
          ],
          "scattermapbox": [
           {
            "marker": {
             "colorbar": {
              "outlinewidth": 0,
              "ticks": ""
             }
            },
            "type": "scattermapbox"
           }
          ],
          "scatterpolar": [
           {
            "marker": {
             "colorbar": {
              "outlinewidth": 0,
              "ticks": ""
             }
            },
            "type": "scatterpolar"
           }
          ],
          "scatterpolargl": [
           {
            "marker": {
             "colorbar": {
              "outlinewidth": 0,
              "ticks": ""
             }
            },
            "type": "scatterpolargl"
           }
          ],
          "scatterternary": [
           {
            "marker": {
             "colorbar": {
              "outlinewidth": 0,
              "ticks": ""
             }
            },
            "type": "scatterternary"
           }
          ],
          "surface": [
           {
            "colorbar": {
             "outlinewidth": 0,
             "ticks": ""
            },
            "colorscale": [
             [
              0,
              "#0d0887"
             ],
             [
              0.1111111111111111,
              "#46039f"
             ],
             [
              0.2222222222222222,
              "#7201a8"
             ],
             [
              0.3333333333333333,
              "#9c179e"
             ],
             [
              0.4444444444444444,
              "#bd3786"
             ],
             [
              0.5555555555555556,
              "#d8576b"
             ],
             [
              0.6666666666666666,
              "#ed7953"
             ],
             [
              0.7777777777777778,
              "#fb9f3a"
             ],
             [
              0.8888888888888888,
              "#fdca26"
             ],
             [
              1,
              "#f0f921"
             ]
            ],
            "type": "surface"
           }
          ],
          "table": [
           {
            "cells": {
             "fill": {
              "color": "#EBF0F8"
             },
             "line": {
              "color": "white"
             }
            },
            "header": {
             "fill": {
              "color": "#C8D4E3"
             },
             "line": {
              "color": "white"
             }
            },
            "type": "table"
           }
          ]
         },
         "layout": {
          "annotationdefaults": {
           "arrowcolor": "#2a3f5f",
           "arrowhead": 0,
           "arrowwidth": 1
          },
          "autotypenumbers": "strict",
          "coloraxis": {
           "colorbar": {
            "outlinewidth": 0,
            "ticks": ""
           }
          },
          "colorscale": {
           "diverging": [
            [
             0,
             "#8e0152"
            ],
            [
             0.1,
             "#c51b7d"
            ],
            [
             0.2,
             "#de77ae"
            ],
            [
             0.3,
             "#f1b6da"
            ],
            [
             0.4,
             "#fde0ef"
            ],
            [
             0.5,
             "#f7f7f7"
            ],
            [
             0.6,
             "#e6f5d0"
            ],
            [
             0.7,
             "#b8e186"
            ],
            [
             0.8,
             "#7fbc41"
            ],
            [
             0.9,
             "#4d9221"
            ],
            [
             1,
             "#276419"
            ]
           ],
           "sequential": [
            [
             0,
             "#0d0887"
            ],
            [
             0.1111111111111111,
             "#46039f"
            ],
            [
             0.2222222222222222,
             "#7201a8"
            ],
            [
             0.3333333333333333,
             "#9c179e"
            ],
            [
             0.4444444444444444,
             "#bd3786"
            ],
            [
             0.5555555555555556,
             "#d8576b"
            ],
            [
             0.6666666666666666,
             "#ed7953"
            ],
            [
             0.7777777777777778,
             "#fb9f3a"
            ],
            [
             0.8888888888888888,
             "#fdca26"
            ],
            [
             1,
             "#f0f921"
            ]
           ],
           "sequentialminus": [
            [
             0,
             "#0d0887"
            ],
            [
             0.1111111111111111,
             "#46039f"
            ],
            [
             0.2222222222222222,
             "#7201a8"
            ],
            [
             0.3333333333333333,
             "#9c179e"
            ],
            [
             0.4444444444444444,
             "#bd3786"
            ],
            [
             0.5555555555555556,
             "#d8576b"
            ],
            [
             0.6666666666666666,
             "#ed7953"
            ],
            [
             0.7777777777777778,
             "#fb9f3a"
            ],
            [
             0.8888888888888888,
             "#fdca26"
            ],
            [
             1,
             "#f0f921"
            ]
           ]
          },
          "colorway": [
           "#636efa",
           "#EF553B",
           "#00cc96",
           "#ab63fa",
           "#FFA15A",
           "#19d3f3",
           "#FF6692",
           "#B6E880",
           "#FF97FF",
           "#FECB52"
          ],
          "font": {
           "color": "#2a3f5f"
          },
          "geo": {
           "bgcolor": "white",
           "lakecolor": "white",
           "landcolor": "#E5ECF6",
           "showlakes": true,
           "showland": true,
           "subunitcolor": "white"
          },
          "hoverlabel": {
           "align": "left"
          },
          "hovermode": "closest",
          "mapbox": {
           "style": "light"
          },
          "paper_bgcolor": "white",
          "plot_bgcolor": "#E5ECF6",
          "polar": {
           "angularaxis": {
            "gridcolor": "white",
            "linecolor": "white",
            "ticks": ""
           },
           "bgcolor": "#E5ECF6",
           "radialaxis": {
            "gridcolor": "white",
            "linecolor": "white",
            "ticks": ""
           }
          },
          "scene": {
           "xaxis": {
            "backgroundcolor": "#E5ECF6",
            "gridcolor": "white",
            "gridwidth": 2,
            "linecolor": "white",
            "showbackground": true,
            "ticks": "",
            "zerolinecolor": "white"
           },
           "yaxis": {
            "backgroundcolor": "#E5ECF6",
            "gridcolor": "white",
            "gridwidth": 2,
            "linecolor": "white",
            "showbackground": true,
            "ticks": "",
            "zerolinecolor": "white"
           },
           "zaxis": {
            "backgroundcolor": "#E5ECF6",
            "gridcolor": "white",
            "gridwidth": 2,
            "linecolor": "white",
            "showbackground": true,
            "ticks": "",
            "zerolinecolor": "white"
           }
          },
          "shapedefaults": {
           "line": {
            "color": "#2a3f5f"
           }
          },
          "ternary": {
           "aaxis": {
            "gridcolor": "white",
            "linecolor": "white",
            "ticks": ""
           },
           "baxis": {
            "gridcolor": "white",
            "linecolor": "white",
            "ticks": ""
           },
           "bgcolor": "#E5ECF6",
           "caxis": {
            "gridcolor": "white",
            "linecolor": "white",
            "ticks": ""
           }
          },
          "title": {
           "x": 0.05
          },
          "xaxis": {
           "automargin": true,
           "gridcolor": "white",
           "linecolor": "white",
           "ticks": "",
           "title": {
            "standoff": 15
           },
           "zerolinecolor": "white",
           "zerolinewidth": 2
          },
          "yaxis": {
           "automargin": true,
           "gridcolor": "white",
           "linecolor": "white",
           "ticks": "",
           "title": {
            "standoff": 15
           },
           "zerolinecolor": "white",
           "zerolinewidth": 2
          }
         }
        },
        "xaxis": {
         "anchor": "y",
         "domain": [
          0,
          1
         ],
         "title": {
          "text": "overshoot_day_consumption"
         }
        },
        "yaxis": {
         "anchor": "x",
         "domain": [
          0,
          1
         ],
         "title": {
          "text": "footprint_consumption"
         }
        }
       }
      }
     },
     "metadata": {},
     "output_type": "display_data"
    }
   ],
   "source": [
    "# Simple Plotly graph to test visualisation\n",
    "\n",
    "import plotly.express as px\n",
    "\n",
    "px.bar(df,\n",
    "       x = 'overshoot_day_consumption',\n",
    "       y = 'footprint_consumption'\n",
    ")"
   ]
  },
  {
   "cell_type": "markdown",
   "metadata": {},
   "source": [
    "### Problems with the visualisations\n",
    "\n",
    "##### Matplotlib graph\n",
    "- Appears correct in terms of the curves\n",
    "- Shows density of how countries are clustered around time of the year\n",
    "- However, does it show when individual countries which share the same Overshoot Day?\n",
    "- Limited interactivity\n",
    "\n",
    "##### Dash and Plotly graphs\n",
    "- Plots of y-axis appear incorrect - eg plots at 10, when the hover on y-value = 2.5\n",
    "- Solved: Countries with the same Overshoot Days are stacked on top of each other\n",
    "- eg 4 countries with Overshoot Day on 27 May 2024/2.5 Earths (Malta, Portugal, Croatia, French Polynesia)\n",
    "\n",
    "\n",
    "##### Possible solutions\n",
    "- Build interactive graphs using Dash, eg annotations on hover, dropdown menu to break down categories\n",
    "- Adjust graph to not show stacking of the same values\n",
    "- Adjust line thickness to show number of countries on the same day\n",
    "- ie. so that it shows all countries at scale to the timeline\n",
    "- See Gapminder for examples of visualising similar datasets, that show countries, regions that may show the same values over a period of time\n"
   ]
  },
  {
   "cell_type": "markdown",
   "metadata": {},
   "source": [
    "### New graph to show Number of Countries by Overshoot Days"
   ]
  },
  {
   "cell_type": "code",
   "execution_count": 82,
   "metadata": {},
   "outputs": [
    {
     "data": {
      "text/html": [
       "\n",
       "        <iframe\n",
       "            width=\"100%\"\n",
       "            height=\"650\"\n",
       "            src=\"http://127.0.0.1:8050/\"\n",
       "            frameborder=\"0\"\n",
       "            allowfullscreen\n",
       "            \n",
       "        ></iframe>\n",
       "        "
      ],
      "text/plain": [
       "<IPython.lib.display.IFrame at 0x29f0d1548d0>"
      ]
     },
     "metadata": {},
     "output_type": "display_data"
    }
   ],
   "source": [
    "import dash\n",
    "from dash import dcc, html, Input, Output\n",
    "import pandas as pd\n",
    "\n",
    "\n",
    "# Define the colours based on regions\n",
    "region_colours = {\n",
    "    'North America': 'mediumseagreen',\n",
    "    'Central America/Caribbean': 'lightseagreen',\n",
    "    'South America': 'teal',\n",
    "    'EU-27': 'mediumblue',\n",
    "    'Other Europe': 'cornflowerblue',\n",
    "    'Africa': 'maroon',\n",
    "    'Middle East/Central Asia': 'red',\n",
    "    'Asia-Pacific': 'orange'\n",
    "}\n",
    "\n",
    "# Initialise the Dash app\n",
    "app = dash.Dash(__name__)\n",
    "\n",
    "# Define the layout of the Dash app\n",
    "app.layout = html.Div([\n",
    "    dcc.Graph(\n",
    "        id='earth-overshoot-graph',\n",
    "        figure={\n",
    "            'data': [\n",
    "                {\n",
    "                    'x': df['overshoot_day_consumption'],\n",
    "                    'y': [1] * len(df),  # Set y to 1 to create individual bars\n",
    "                    'type': 'bar',\n",
    "                    'text': [f\"Country: {country}<br>Region: {region}<br>\"\n",
    "                             f\"Overshoot Day: {overshoot_day}<br>\"\n",
    "                             f\"Number of Earths: {num_earths}\"\n",
    "                             for country, region, overshoot_day, num_earths in\n",
    "                             zip(df['Country'], df['Region'], df['overshoot_day_consumption'], df['num_earths'])],\n",
    "                    'hoverinfo': 'text',  # Display custom text on hover\n",
    "                    'marker': {'color': [region_colours[region] for region in df['Region']]}  # Use region colors\n",
    "                }\n",
    "            ],\n",
    "            'layout': {\n",
    "                'title': 'Number of Countries by Overshoot Day',\n",
    "                'xaxis': {\n",
    "                    'title': 'Overshoot Day',\n",
    "                    'tickmode': 'array',  # Set the tick mode to array\n",
    "                    'tickvals': pd.date_range(start='2024-01-01', end='2026-12-01', freq='MS').to_list(),  # Set tick values to the start of each month\n",
    "                    'ticktext': pd.date_range(start='2024-01-01', end='2026-12-01', freq='MS').strftime('%b'),  # Set tick text to each month abbreviation\n",
    "                    'tickangle': -45,  # Rotate tick labels for better visibility\n",
    "                    'tickfont': {'size': 10},  # Set tick font size\n",
    "                    'showgrid': True  # Show gridlines\n",
    "                },\n",
    "                'xaxis2': {  # Secondary x-axis for years\n",
    "                    'tickmode': 'array',  # Set the tick mode to array\n",
    "                    'tickvals': pd.date_range(start='2024-01-01', end='2026-01-01', freq='YS').to_list(),  # Set tick values to the start of each year\n",
    "                    'ticktext': pd.date_range(start='2024-01-01', end='2026-01-01', freq='YS').strftime('%Y').to_list(),  # Set tick text to each year\n",
    "                    'showgrid': False  # Hide gridlines\n",
    "                },\n",
    "                'yaxis': {'title': 'Number of Countries'},\n",
    "                'legend': {\n",
    "                    'orientation': 'h',  # Horizontal legend\n",
    "                    'x': 0,  # Align legend to the left\n",
    "                    'y': -0.2,  # Position legend at the bottom\n",
    "                    'traceorder': 'normal'  # Show traces in the order they are provided\n",
    "                },\n",
    "                'annotations': [\n",
    "                    {'x': overshoot_day, 'y': 0, 'text': year, 'showarrow': False, 'xanchor': 'center', 'yanchor': 'top'}\n",
    "                    for overshoot_day, year in zip(pd.date_range(start='2024-01-01', end='2026-12-01', freq='MS').to_list(), pd.date_range(start='2024-01-01', end='2026-12-01', freq='YS').strftime('%Y').to_list())\n",
    "                ]  # Add annotations for the years\n",
    "            }\n",
    "        }\n",
    "    ),\n",
    "    html.Div(id='hover-data')\n",
    "])\n",
    "\n",
    "# Run the Dash app\n",
    "if __name__ == '__main__':\n",
    "    app.run_server(debug=True)\n"
   ]
  }
 ],
 "metadata": {
  "kernelspec": {
   "display_name": "Python 3",
   "language": "python",
   "name": "python3"
  },
  "language_info": {
   "codemirror_mode": {
    "name": "ipython",
    "version": 3
   },
   "file_extension": ".py",
   "mimetype": "text/x-python",
   "name": "python",
   "nbconvert_exporter": "python",
   "pygments_lexer": "ipython3",
   "version": "3.11.4"
  }
 },
 "nbformat": 4,
 "nbformat_minor": 2
}
